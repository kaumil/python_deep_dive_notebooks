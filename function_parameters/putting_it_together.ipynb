{
 "nbformat": 4,
 "nbformat_minor": 2,
 "metadata": {
  "language_info": {
   "name": "python",
   "codemirror_mode": {
    "name": "ipython",
    "version": 3
   },
   "version": "3.7.6-final"
  },
  "orig_nbformat": 2,
  "file_extension": ".py",
  "mimetype": "text/x-python",
  "name": "python",
  "npconvert_exporter": "python",
  "pygments_lexer": "ipython3",
  "version": 3,
  "kernelspec": {
   "name": "python3",
   "display_name": "Python 3"
  }
 },
 "cells": [
  {
   "cell_type": "code",
   "execution_count": 1,
   "metadata": {},
   "outputs": [],
   "source": [
    "def func(a, b, *args):\n",
    "    print(a,b,args)"
   ]
  },
  {
   "cell_type": "code",
   "execution_count": 2,
   "metadata": {},
   "outputs": [
    {
     "output_type": "stream",
     "name": "stdout",
     "text": "1 2 ('x', 'y', 'z')\n"
    }
   ],
   "source": [
    "func(1, 2, 'x', 'y', 'z')"
   ]
  },
  {
   "cell_type": "markdown",
   "metadata": {},
   "source": [
    "As you can see the args is actually a tuple(iteratable as even though it would be a list it would be compiled as a tuple during compilation time)"
   ]
  },
  {
   "cell_type": "code",
   "execution_count": 3,
   "metadata": {},
   "outputs": [
    {
     "output_type": "error",
     "ename": "SyntaxError",
     "evalue": "positional argument follows keyword argument (<ipython-input-3-85a133e1935a>, line 1)",
     "traceback": [
      "\u001b[0;36m  File \u001b[0;32m\"<ipython-input-3-85a133e1935a>\"\u001b[0;36m, line \u001b[0;32m1\u001b[0m\n\u001b[0;31m    func(a=1,b=2,'x','y','z')\u001b[0m\n\u001b[0m                ^\u001b[0m\n\u001b[0;31mSyntaxError\u001b[0m\u001b[0;31m:\u001b[0m positional argument follows keyword argument\n"
     ]
    }
   ],
   "source": [
    "func(a=1,b=2,'x','y','z')"
   ]
  },
  {
   "cell_type": "code",
   "execution_count": 4,
   "metadata": {},
   "outputs": [],
   "source": [
    "def func(a,b=2,c=3,*args):\n",
    "    print(a,b,c,args)"
   ]
  },
  {
   "cell_type": "code",
   "execution_count": 5,
   "metadata": {},
   "outputs": [
    {
     "output_type": "stream",
     "name": "stdout",
     "text": "1 2 3 ('x', 'y', 'z')\n"
    }
   ],
   "source": [
    "func(1,2,3,'x','y','z')"
   ]
  },
  {
   "cell_type": "code",
   "execution_count": 6,
   "metadata": {},
   "outputs": [
    {
     "output_type": "stream",
     "name": "stdout",
     "text": "1 4 3 ('x', 'y', 'z')\n"
    }
   ],
   "source": [
    "#You can even replace the value of b/c in the defined function\n",
    "func(1,4,3,'x','y','z')"
   ]
  },
  {
   "cell_type": "markdown",
   "metadata": {},
   "source": [
    "HOW TO USE THE DEFAULT VALUE OF B?"
   ]
  },
  {
   "cell_type": "code",
   "execution_count": 7,
   "metadata": {},
   "outputs": [
    {
     "output_type": "error",
     "ename": "SyntaxError",
     "evalue": "positional argument follows keyword argument (<ipython-input-7-c0d6a59d92fd>, line 1)",
     "traceback": [
      "\u001b[0;36m  File \u001b[0;32m\"<ipython-input-7-c0d6a59d92fd>\"\u001b[0;36m, line \u001b[0;32m1\u001b[0m\n\u001b[0;31m    func(1,c=5,'x','y')\u001b[0m\n\u001b[0m              ^\u001b[0m\n\u001b[0;31mSyntaxError\u001b[0m\u001b[0;31m:\u001b[0m positional argument follows keyword argument\n"
     ]
    }
   ],
   "source": [
    "func(1,c=5,'x','y')"
   ]
  },
  {
   "cell_type": "markdown",
   "metadata": {},
   "source": [
    "## AS YOU CAN SEE IF WE PLACE *args AFTER A PARAMETER WITH A DEFAULT VALUE, WE ARE BASICALLY RESTRICTING OURSELVES FROM USING THAT DEFAULT VALUE"
   ]
  },
  {
   "cell_type": "markdown",
   "metadata": {},
   "source": [
    "### WHAT IF WE DEFINE B LATER???"
   ]
  },
  {
   "cell_type": "code",
   "execution_count": 8,
   "metadata": {},
   "outputs": [],
   "source": [
    "#Lets take an example of a new function\n",
    "def func(a,b=2,*args,c=3,d):\n",
    "    print(a,b,args,c,d)"
   ]
  },
  {
   "cell_type": "code",
   "execution_count": 16,
   "metadata": {},
   "outputs": [
    {
     "output_type": "error",
     "ename": "TypeError",
     "evalue": "func() missing 1 required keyword-only argument: 'd'",
     "traceback": [
      "\u001b[0;31m---------------------------------------------------------------------------\u001b[0m",
      "\u001b[0;31mTypeError\u001b[0m                                 Traceback (most recent call last)",
      "\u001b[0;32m<ipython-input-16-62078beb9f34>\u001b[0m in \u001b[0;36m<module>\u001b[0;34m\u001b[0m\n\u001b[1;32m      1\u001b[0m func(1,'x','y','z' #x,y and z are for args\n\u001b[0;32m----> 2\u001b[0;31m ,12) #any parameter after the *args argument becomes a keyword argument\n\u001b[0m",
      "\u001b[0;31mTypeError\u001b[0m: func() missing 1 required keyword-only argument: 'd'"
     ]
    }
   ],
   "source": [
    "func(1,'x','y','z' #x,y and z are for args\n",
    ",12) #any parameter after the *args argument becomes a keyword argument"
   ]
  },
  {
   "cell_type": "code",
   "execution_count": 17,
   "metadata": {},
   "outputs": [
    {
     "output_type": "error",
     "ename": "TypeError",
     "evalue": "func() got multiple values for argument 'b'",
     "traceback": [
      "\u001b[0;31m---------------------------------------------------------------------------\u001b[0m",
      "\u001b[0;31mTypeError\u001b[0m                                 Traceback (most recent call last)",
      "\u001b[0;32m<ipython-input-17-3469b71dd539>\u001b[0m in \u001b[0;36m<module>\u001b[0;34m\u001b[0m\n\u001b[1;32m      1\u001b[0m \u001b[0;31m#lets try giving b a value after passing the values for args\u001b[0m\u001b[0;34m\u001b[0m\u001b[0;34m\u001b[0m\u001b[0;34m\u001b[0m\u001b[0m\n\u001b[0;32m----> 2\u001b[0;31m \u001b[0mfunc\u001b[0m\u001b[0;34m(\u001b[0m\u001b[0;36m1\u001b[0m\u001b[0;34m,\u001b[0m\u001b[0;34m'x'\u001b[0m\u001b[0;34m,\u001b[0m\u001b[0;34m'y'\u001b[0m\u001b[0;34m,\u001b[0m\u001b[0;34m'z'\u001b[0m\u001b[0;34m,\u001b[0m\u001b[0mb\u001b[0m\u001b[0;34m=\u001b[0m\u001b[0;36m4\u001b[0m\u001b[0;34m,\u001b[0m\u001b[0md\u001b[0m\u001b[0;34m=\u001b[0m\u001b[0;36m10\u001b[0m\u001b[0;34m)\u001b[0m\u001b[0;34m\u001b[0m\u001b[0;34m\u001b[0m\u001b[0m\n\u001b[0m",
      "\u001b[0;31mTypeError\u001b[0m: func() got multiple values for argument 'b'"
     ]
    }
   ],
   "source": [
    "#lets try giving b a value after passing the values for args\n",
    "func(1,'x','y','z',b=4,d=10)"
   ]
  },
  {
   "cell_type": "code",
   "execution_count": 22,
   "metadata": {},
   "outputs": [],
   "source": [
    "def calc_hi_lo_average(*args,log_to_console=False):\n",
    "    '''\n",
    "        We are going to have a function return the average of the input values. However, if the input is \\\n",
    "        empty, then we gotta return 0. And if log_to_console is True we gotta print the hi, lo and avg\n",
    "    '''\n",
    "    hi = int(bool(args)) and max(args) #if tuple is empty, it is Falsy. and converting it to bool will \\\n",
    "                                       #return False. converting it to int will be 0. if no values then \\\n",
    "                                       #the value is 0. else max of args would be something not 0, which \\\n",
    "                                       #will be Truthy. Hence the and operator will work as a short-circuit \\\n",
    "                                       #operator\n",
    "    lo = min(args) if len(args) > 0 else 0 #another way of doing the above step\n",
    "    avg = (hi + lo) / 2\n",
    "\n",
    "    if log_to_console:\n",
    "        print(\"high={0}, low={1}, avg={2}\".format(hi,lo,avg))\n",
    "    return avg"
   ]
  },
  {
   "cell_type": "code",
   "execution_count": 23,
   "metadata": {},
   "outputs": [
    {
     "output_type": "stream",
     "name": "stdout",
     "text": "high=5, low=1, avg=3.0\n3.0\n"
    }
   ],
   "source": [
    "is_debug = True\n",
    "avg = calc_hi_lo_average(1,2,3,4,5,log_to_console=is_debug)\n",
    "print(avg)"
   ]
  },
  {
   "cell_type": "code",
   "execution_count": 25,
   "metadata": {},
   "outputs": [
    {
     "output_type": "stream",
     "name": "stdout",
     "text": "high=0, low=0, avg=0.0\n0.0\n"
    }
   ],
   "source": [
    "is_debug = True\n",
    "avg = calc_hi_lo_average(log_to_console=is_debug)\n",
    "print(avg)"
   ]
  },
  {
   "cell_type": "code",
   "execution_count": null,
   "metadata": {},
   "outputs": [],
   "source": []
  }
 ]
}