{
 "nbformat": 4,
 "nbformat_minor": 2,
 "metadata": {
  "language_info": {
   "name": "python",
   "codemirror_mode": {
    "name": "ipython",
    "version": 3
   },
   "version": "3.7.6-final"
  },
  "orig_nbformat": 2,
  "file_extension": ".py",
  "mimetype": "text/x-python",
  "name": "python",
  "npconvert_exporter": "python",
  "pygments_lexer": "ipython3",
  "version": 3,
  "kernelspec": {
   "name": "python3",
   "display_name": "Python 3"
  }
 },
 "cells": [
  {
   "cell_type": "markdown",
   "metadata": {},
   "source": [
    "# Simple function timer"
   ]
  },
  {
   "cell_type": "code",
   "execution_count": 1,
   "metadata": {},
   "outputs": [],
   "source": [
    "import time"
   ]
  },
  {
   "cell_type": "code",
   "execution_count": 2,
   "metadata": {},
   "outputs": [],
   "source": [
    "def time_it(fn, *args, **kwargs):\n",
    "    print(args,kwargs)"
   ]
  },
  {
   "cell_type": "code",
   "execution_count": 5,
   "metadata": {},
   "outputs": [
    {
     "output_type": "stream",
     "name": "stdout",
     "text": "(1, 2, 3, 4) {'sep': ' - ', 'end': ' ***'}\n"
    }
   ],
   "source": [
    "time_it(print,1,2,3,4,sep=' - ',end=' ***')"
   ]
  },
  {
   "cell_type": "markdown",
   "metadata": {},
   "source": [
    "1,2,3,4 are in args\n",
    "<br/>\n",
    "sep and end in kwargs"
   ]
  },
  {
   "cell_type": "code",
   "execution_count": 12,
   "metadata": {},
   "outputs": [],
   "source": [
    "def time_it(fn,*args,rep=1,**kwargs):\n",
    "    for _ in range(rep):\n",
    "        fn(*args,**kwargs)"
   ]
  },
  {
   "cell_type": "code",
   "execution_count": 13,
   "metadata": {},
   "outputs": [
    {
     "output_type": "stream",
     "name": "stdout",
     "text": "1 - 2 - 3 ***\n1 - 2 - 3 ***\n1 - 2 - 3 ***\n1 - 2 - 3 ***\n1 - 2 - 3 ***\n"
    }
   ],
   "source": [
    "time_it(print,1,2,3,sep=' - ',end=' ***\\n',rep=5)"
   ]
  },
  {
   "cell_type": "code",
   "execution_count": 14,
   "metadata": {},
   "outputs": [],
   "source": [
    "def time_it(fn,*args,rep=1,**kwargs):\n",
    "    start = time.perf_counter()\n",
    "    for _ in range(rep):\n",
    "        fn(*args,**kwargs)\n",
    "    end = time.perf_counter()\n",
    "    return (end-start)/rep"
   ]
  },
  {
   "cell_type": "code",
   "execution_count": 15,
   "metadata": {},
   "outputs": [
    {
     "output_type": "stream",
     "name": "stdout",
     "text": "1 - 2 - 3 ***\n1 - 2 - 3 ***\n1 - 2 - 3 ***\n1 - 2 - 3 ***\n1 - 2 - 3 ***\n"
    },
    {
     "output_type": "execute_result",
     "data": {
      "text/plain": "9.488780015090014e-05"
     },
     "metadata": {},
     "execution_count": 15
    }
   ],
   "source": [
    "time_it(print,1,2,3,sep=' - ',end=' ***\\n',rep=5)"
   ]
  },
  {
   "cell_type": "code",
   "execution_count": 27,
   "metadata": {},
   "outputs": [],
   "source": [
    "def compute_powers_1(n, *, start=1, end): #restricting the positional arguments with * \n",
    "    #using a for loop\n",
    "    results = []\n",
    "    for i in range(start, end):\n",
    "        results.append(n**i)\n",
    "    return results"
   ]
  },
  {
   "cell_type": "code",
   "execution_count": 28,
   "metadata": {},
   "outputs": [
    {
     "output_type": "execute_result",
     "data": {
      "text/plain": "[2, 4, 8, 16]"
     },
     "metadata": {},
     "execution_count": 28
    }
   ],
   "source": [
    "compute_powers_1(2,end=5)"
   ]
  },
  {
   "cell_type": "code",
   "execution_count": 29,
   "metadata": {},
   "outputs": [],
   "source": [
    "def compute_powers_2(n, *, start=1,end):\n",
    "    #using list comprehension\n",
    "    return [n**i for i in range(start,end)]"
   ]
  },
  {
   "cell_type": "code",
   "execution_count": 30,
   "metadata": {},
   "outputs": [
    {
     "output_type": "execute_result",
     "data": {
      "text/plain": "[2, 4, 8, 16]"
     },
     "metadata": {},
     "execution_count": 30
    }
   ],
   "source": [
    "compute_powers_2(2,end=5)"
   ]
  },
  {
   "cell_type": "code",
   "execution_count": 31,
   "metadata": {},
   "outputs": [],
   "source": [
    "def compute_powers_3(n,*,start=1,end):\n",
    "    #this will return a generator object\n",
    "    return (n**i for i in range(start,end))"
   ]
  },
  {
   "cell_type": "code",
   "execution_count": 33,
   "metadata": {},
   "outputs": [
    {
     "output_type": "execute_result",
     "data": {
      "text/plain": "[2, 4, 8, 16]"
     },
     "metadata": {},
     "execution_count": 33
    }
   ],
   "source": [
    "list(compute_powers_3(2,end=5))"
   ]
  },
  {
   "cell_type": "code",
   "execution_count": 37,
   "metadata": {},
   "outputs": [
    {
     "output_type": "execute_result",
     "data": {
      "text/plain": "0.4192176360000303"
     },
     "metadata": {},
     "execution_count": 37
    }
   ],
   "source": [
    "time_it(compute_powers_1,2,start=0,end=20000,rep=5)"
   ]
  },
  {
   "cell_type": "code",
   "execution_count": 39,
   "metadata": {},
   "outputs": [
    {
     "output_type": "execute_result",
     "data": {
      "text/plain": "0.4207114348002506"
     },
     "metadata": {},
     "execution_count": 39
    }
   ],
   "source": [
    "time_it(compute_powers_2,2,start=0,end=20000,rep=5)"
   ]
  },
  {
   "cell_type": "code",
   "execution_count": 40,
   "metadata": {},
   "outputs": [
    {
     "output_type": "execute_result",
     "data": {
      "text/plain": "2.3134001821745186e-06"
     },
     "metadata": {},
     "execution_count": 40
    }
   ],
   "source": [
    "time_it(compute_powers_3,2,start=0,end=20000,rep=5)"
   ]
  },
  {
   "cell_type": "code",
   "execution_count": null,
   "metadata": {},
   "outputs": [],
   "source": []
  }
 ]
}