{
 "cells": [
  {
   "cell_type": "code",
   "execution_count": 14,
   "metadata": {},
   "outputs": [
    {
     "output_type": "execute_result",
     "data": {
      "text/plain": "100"
     },
     "metadata": {},
     "execution_count": 14
    }
   ],
   "source": [
    "data_dict = dict(key1=100,key2=200,key3=300)\n",
    "data_dict['key1']"
   ]
  },
  {
   "cell_type": "code",
   "execution_count": 15,
   "metadata": {},
   "outputs": [],
   "source": [
    "from collections import namedtuple"
   ]
  },
  {
   "cell_type": "code",
   "execution_count": 16,
   "metadata": {},
   "outputs": [
    {
     "output_type": "execute_result",
     "data": {
      "text/plain": "dict_keys(['key1', 'key2', 'key3'])"
     },
     "metadata": {},
     "execution_count": 16
    }
   ],
   "source": [
    "data_dict.keys()"
   ]
  },
  {
   "cell_type": "code",
   "execution_count": 17,
   "metadata": {},
   "outputs": [
    {
     "output_type": "execute_result",
     "data": {
      "text/plain": "('key1', 'key2', 'key3')"
     },
     "metadata": {},
     "execution_count": 17
    }
   ],
   "source": [
    "Data = namedtuple('Data',data_dict.keys())\n",
    "Data._fields"
   ]
  },
  {
   "cell_type": "markdown",
   "metadata": {},
   "source": [
    "From Python 3.6 onwards, the order of the keys in the dictionaries will be preserved"
   ]
  },
  {
   "cell_type": "code",
   "execution_count": 18,
   "metadata": {},
   "outputs": [
    {
     "output_type": "execute_result",
     "data": {
      "text/plain": "dict_values([100, 200, 300])"
     },
     "metadata": {},
     "execution_count": 18
    }
   ],
   "source": [
    "data_dict.values()"
   ]
  },
  {
   "cell_type": "code",
   "execution_count": 19,
   "metadata": {},
   "outputs": [
    {
     "output_type": "execute_result",
     "data": {
      "text/plain": "[100, 200, 300]"
     },
     "metadata": {},
     "execution_count": 19
    }
   ],
   "source": [
    "[*data_dict.values()] #values can be unpacked"
   ]
  },
  {
   "cell_type": "code",
   "execution_count": 20,
   "metadata": {},
   "outputs": [],
   "source": [
    "d1 = Data(*data_dict.values())"
   ]
  },
  {
   "cell_type": "code",
   "execution_count": 21,
   "metadata": {},
   "outputs": [
    {
     "output_type": "execute_result",
     "data": {
      "text/plain": "Data(key1=100, key2=200, key3=300)"
     },
     "metadata": {},
     "execution_count": 21
    }
   ],
   "source": [
    "d1"
   ]
  },
  {
   "cell_type": "code",
   "execution_count": 22,
   "metadata": {},
   "outputs": [],
   "source": [
    "#Better way"
   ]
  },
  {
   "cell_type": "code",
   "execution_count": 23,
   "metadata": {},
   "outputs": [],
   "source": [
    "d2 = Data(**data_dict)"
   ]
  },
  {
   "cell_type": "code",
   "execution_count": 24,
   "metadata": {},
   "outputs": [
    {
     "output_type": "execute_result",
     "data": {
      "text/plain": "Data(key1=100, key2=200, key3=300)"
     },
     "metadata": {},
     "execution_count": 24
    }
   ],
   "source": [
    "d2"
   ]
  },
  {
   "cell_type": "code",
   "execution_count": 26,
   "metadata": {},
   "outputs": [
    {
     "output_type": "execute_result",
     "data": {
      "text/plain": "100"
     },
     "metadata": {},
     "execution_count": 26
    }
   ],
   "source": [
    "getattr(d2,'key1')"
   ]
  },
  {
   "cell_type": "markdown",
   "metadata": {},
   "source": [
    "## Converting a list of dictionaries to list of named tuples\n"
   ]
  },
  {
   "cell_type": "code",
   "execution_count": 28,
   "metadata": {},
   "outputs": [],
   "source": [
    "data_list = [\n",
    "    {'key1':1,'key2':2},\n",
    "    {'key1':3,'key2':4},\n",
    "    {'key1':5,'key2':6,'key3':7},\n",
    "    {'key2':100}\n",
    "]"
   ]
  },
  {
   "cell_type": "markdown",
   "metadata": {},
   "source": [
    "To convert this list of dictionaries, we need to understand what are all possible keys in the list of dictionaries. We can use a set for this task"
   ]
  },
  {
   "cell_type": "code",
   "execution_count": 36,
   "metadata": {},
   "outputs": [
    {
     "output_type": "execute_result",
     "data": {
      "text/plain": "{'key1', 'key2', 'key3'}"
     },
     "metadata": {},
     "execution_count": 36
    }
   ],
   "source": [
    "keys = {key for dict_ in data_list for key in dict_.keys()}\n",
    "keys"
   ]
  },
  {
   "cell_type": "code",
   "execution_count": 37,
   "metadata": {},
   "outputs": [
    {
     "output_type": "execute_result",
     "data": {
      "text/plain": "('key1', 'key2', 'key3')"
     },
     "metadata": {},
     "execution_count": 37
    }
   ],
   "source": [
    "named_tuple = namedtuple('NamedTuple',sorted(keys))\n",
    "named_tuple._fields"
   ]
  },
  {
   "cell_type": "markdown",
   "metadata": {},
   "source": [
    "now there might be the case that not all keys are present in the dictionary. lets say the first one doesn't have key3. So we outta give default values to the fields in the nametuple"
   ]
  },
  {
   "cell_type": "code",
   "execution_count": 38,
   "metadata": {},
   "outputs": [],
   "source": [
    "named_tuple.__new__.__defaults__ = (None,) * len(named_tuple._fields)"
   ]
  },
  {
   "cell_type": "code",
   "execution_count": 40,
   "metadata": {},
   "outputs": [
    {
     "output_type": "stream",
     "name": "stdout",
     "text": "[NamedTuple(key1=1, key2=2, key3=None), NamedTuple(key1=3, key2=4, key3=None), NamedTuple(key1=5, key2=6, key3=7), NamedTuple(key1=None, key2=100, key3=None)]\n"
    }
   ],
   "source": [
    "tuple_list = []\n",
    "for dict_ in data_list:\n",
    "    tuple_list.append(named_tuple(**dict_))\n",
    "print(tuple_list)"
   ]
  },
  {
   "cell_type": "code",
   "execution_count": 45,
   "metadata": {},
   "outputs": [],
   "source": [
    "#writing the above as a function\n",
    "def tuplify_dicts(dicts):\n",
    "    keys = {key for dict_ in dicts for key in dict_.keys()}\n",
    "    named_tuple = namedtuple('NamedTuple',sorted(keys),rename=True)\n",
    "    named_tuple.__new__.__defaults__ = (None,)*len(named_tuple._fields)\n",
    "\n",
    "    return [named_tuple(**dict_) for dict_ in dicts]"
   ]
  },
  {
   "cell_type": "code",
   "execution_count": 46,
   "metadata": {},
   "outputs": [
    {
     "output_type": "execute_result",
     "data": {
      "text/plain": "[NamedTuple(key1=1, key2=2, key3=None),\n NamedTuple(key1=3, key2=4, key3=None),\n NamedTuple(key1=5, key2=6, key3=7),\n NamedTuple(key1=None, key2=100, key3=None)]"
     },
     "metadata": {},
     "execution_count": 46
    }
   ],
   "source": [
    "tuplify_dicts(data_list)"
   ]
  },
  {
   "cell_type": "code",
   "execution_count": null,
   "metadata": {},
   "outputs": [],
   "source": []
  }
 ],
 "metadata": {
  "language_info": {
   "codemirror_mode": {
    "name": "ipython",
    "version": 3
   },
   "file_extension": ".py",
   "mimetype": "text/x-python",
   "name": "python",
   "nbconvert_exporter": "python",
   "pygments_lexer": "ipython3",
   "version": "3.7.6-final"
  },
  "orig_nbformat": 2,
  "kernelspec": {
   "name": "python3",
   "display_name": "Python 3"
  }
 },
 "nbformat": 4,
 "nbformat_minor": 2
}