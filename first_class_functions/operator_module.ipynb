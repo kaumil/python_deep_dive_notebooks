{
 "nbformat": 4,
 "nbformat_minor": 2,
 "metadata": {
  "language_info": {
   "name": "python",
   "codemirror_mode": {
    "name": "ipython",
    "version": 3
   },
   "version": "3.7.6-final"
  },
  "orig_nbformat": 2,
  "file_extension": ".py",
  "mimetype": "text/x-python",
  "name": "python",
  "npconvert_exporter": "python",
  "pygments_lexer": "ipython3",
  "version": 3,
  "kernelspec": {
   "name": "python3",
   "display_name": "Python 3"
  }
 },
 "cells": [
  {
   "cell_type": "code",
   "execution_count": 1,
   "metadata": {},
   "outputs": [],
   "source": [
    "import operator"
   ]
  },
  {
   "cell_type": "code",
   "execution_count": 2,
   "metadata": {},
   "outputs": [
    {
     "output_type": "execute_result",
     "data": {
      "text/plain": "['__abs__',\n '__add__',\n '__all__',\n '__and__',\n '__builtins__',\n '__cached__',\n '__concat__',\n '__contains__',\n '__delitem__',\n '__doc__',\n '__eq__',\n '__file__',\n '__floordiv__',\n '__ge__',\n '__getitem__',\n '__gt__',\n '__iadd__',\n '__iand__',\n '__iconcat__',\n '__ifloordiv__',\n '__ilshift__',\n '__imatmul__',\n '__imod__',\n '__imul__',\n '__index__',\n '__inv__',\n '__invert__',\n '__ior__',\n '__ipow__',\n '__irshift__',\n '__isub__',\n '__itruediv__',\n '__ixor__',\n '__le__',\n '__loader__',\n '__lshift__',\n '__lt__',\n '__matmul__',\n '__mod__',\n '__mul__',\n '__name__',\n '__ne__',\n '__neg__',\n '__not__',\n '__or__',\n '__package__',\n '__pos__',\n '__pow__',\n '__rshift__',\n '__setitem__',\n '__spec__',\n '__sub__',\n '__truediv__',\n '__xor__',\n '_abs',\n 'abs',\n 'add',\n 'and_',\n 'attrgetter',\n 'concat',\n 'contains',\n 'countOf',\n 'delitem',\n 'eq',\n 'floordiv',\n 'ge',\n 'getitem',\n 'gt',\n 'iadd',\n 'iand',\n 'iconcat',\n 'ifloordiv',\n 'ilshift',\n 'imatmul',\n 'imod',\n 'imul',\n 'index',\n 'indexOf',\n 'inv',\n 'invert',\n 'ior',\n 'ipow',\n 'irshift',\n 'is_',\n 'is_not',\n 'isub',\n 'itemgetter',\n 'itruediv',\n 'ixor',\n 'le',\n 'length_hint',\n 'lshift',\n 'lt',\n 'matmul',\n 'methodcaller',\n 'mod',\n 'mul',\n 'ne',\n 'neg',\n 'not_',\n 'or_',\n 'pos',\n 'pow',\n 'rshift',\n 'setitem',\n 'sub',\n 'truediv',\n 'truth',\n 'xor']"
     },
     "metadata": {},
     "execution_count": 2
    }
   ],
   "source": [
    "dir(operator)"
   ]
  },
  {
   "cell_type": "code",
   "execution_count": 3,
   "metadata": {},
   "outputs": [
    {
     "output_type": "execute_result",
     "data": {
      "text/plain": "15"
     },
     "metadata": {},
     "execution_count": 3
    }
   ],
   "source": [
    "from functools import reduce\n",
    "reduce(lambda x,y:x+y,[1,2,3,4,5])"
   ]
  },
  {
   "cell_type": "code",
   "execution_count": 7,
   "metadata": {},
   "outputs": [
    {
     "output_type": "execute_result",
     "data": {
      "text/plain": "15"
     },
     "metadata": {},
     "execution_count": 7
    }
   ],
   "source": [
    "from functools import reduce\n",
    "reduce(operator.add,[1,2,3,4,5])"
   ]
  },
  {
   "cell_type": "code",
   "execution_count": 8,
   "metadata": {},
   "outputs": [],
   "source": [
    "my_list = [1,2,3,4]"
   ]
  },
  {
   "cell_type": "code",
   "execution_count": 9,
   "metadata": {},
   "outputs": [
    {
     "output_type": "execute_result",
     "data": {
      "text/plain": "2"
     },
     "metadata": {},
     "execution_count": 9
    }
   ],
   "source": [
    "my_list[1]"
   ]
  },
  {
   "cell_type": "code",
   "execution_count": 10,
   "metadata": {},
   "outputs": [
    {
     "output_type": "execute_result",
     "data": {
      "text/plain": "2"
     },
     "metadata": {},
     "execution_count": 10
    }
   ],
   "source": [
    "operator.getitem(my_list,1)"
   ]
  },
  {
   "cell_type": "code",
   "execution_count": 11,
   "metadata": {},
   "outputs": [
    {
     "output_type": "execute_result",
     "data": {
      "text/plain": "[1, 100, 3, 4]"
     },
     "metadata": {},
     "execution_count": 11
    }
   ],
   "source": [
    "my_list[1] = 100\n",
    "my_list"
   ]
  },
  {
   "cell_type": "code",
   "execution_count": 13,
   "metadata": {},
   "outputs": [
    {
     "output_type": "execute_result",
     "data": {
      "text/plain": "[1, 100, 3]"
     },
     "metadata": {},
     "execution_count": 13
    }
   ],
   "source": [
    "del my_list[3]\n",
    "my_list"
   ]
  },
  {
   "cell_type": "code",
   "execution_count": 15,
   "metadata": {},
   "outputs": [
    {
     "output_type": "execute_result",
     "data": {
      "text/plain": "[1, 100, 3, 4]"
     },
     "metadata": {},
     "execution_count": 15
    }
   ],
   "source": [
    "#Using operator module\n",
    "my_list = [1,2,3,4]\n",
    "operator.setitem(my_list,1,100)\n",
    "my_list"
   ]
  },
  {
   "cell_type": "code",
   "execution_count": 16,
   "metadata": {},
   "outputs": [
    {
     "output_type": "execute_result",
     "data": {
      "text/plain": "[1, 100, 3]"
     },
     "metadata": {},
     "execution_count": 16
    }
   ],
   "source": [
    "operator.delitem(my_list,3) #3 is the index here\n",
    "my_list"
   ]
  },
  {
   "cell_type": "markdown",
   "metadata": {},
   "source": [
    "## Focusing on itemgetter, attrgetter and methodcaller"
   ]
  },
  {
   "cell_type": "code",
   "execution_count": 17,
   "metadata": {},
   "outputs": [
    {
     "output_type": "execute_result",
     "data": {
      "text/plain": "operator.itemgetter"
     },
     "metadata": {},
     "execution_count": 17
    }
   ],
   "source": [
    "f = operator.itemgetter(2)\n",
    "type(f)"
   ]
  },
  {
   "cell_type": "code",
   "execution_count": 18,
   "metadata": {},
   "outputs": [
    {
     "output_type": "execute_result",
     "data": {
      "text/plain": "3"
     },
     "metadata": {},
     "execution_count": 18
    }
   ],
   "source": [
    "my_list = [1,2,3,4]\n",
    "f(my_list) #get the item at position 2"
   ]
  },
  {
   "cell_type": "code",
   "execution_count": 19,
   "metadata": {},
   "outputs": [
    {
     "output_type": "execute_result",
     "data": {
      "text/plain": "'t'"
     },
     "metadata": {},
     "execution_count": 19
    }
   ],
   "source": [
    "s = 'python'\n",
    "f(s)"
   ]
  },
  {
   "cell_type": "code",
   "execution_count": 20,
   "metadata": {},
   "outputs": [
    {
     "output_type": "execute_result",
     "data": {
      "text/plain": "(3, 4)"
     },
     "metadata": {},
     "execution_count": 20
    }
   ],
   "source": [
    "f = operator.itemgetter(2,3)\n",
    "my_list = [1,2,3,4]\n",
    "f(my_list) #it returns a tuple"
   ]
  },
  {
   "cell_type": "code",
   "execution_count": 21,
   "metadata": {},
   "outputs": [
    {
     "output_type": "execute_result",
     "data": {
      "text/plain": "('t', 'h')"
     },
     "metadata": {},
     "execution_count": 21
    }
   ],
   "source": [
    "f('python')"
   ]
  },
  {
   "cell_type": "markdown",
   "metadata": {},
   "source": [
    "## Attribute getter"
   ]
  },
  {
   "cell_type": "code",
   "execution_count": 22,
   "metadata": {},
   "outputs": [],
   "source": [
    "class MyClass:\n",
    "    def __init__(self):\n",
    "        self.a = 10\n",
    "        self.b = 20\n",
    "        self.c = 30\n",
    "    \n",
    "    def test(self):\n",
    "        print(\"test method running..\")"
   ]
  },
  {
   "cell_type": "code",
   "execution_count": 23,
   "metadata": {},
   "outputs": [
    {
     "output_type": "stream",
     "name": "stdout",
     "text": "<__main__.MyClass object at 0x7f84f790bf50>\n10\n20\n30\n"
    }
   ],
   "source": [
    "obj = MyClass()\n",
    "print(obj)\n",
    "print(obj.a)\n",
    "print(obj.b)\n",
    "print(obj.c)"
   ]
  },
  {
   "cell_type": "code",
   "execution_count": 24,
   "metadata": {},
   "outputs": [
    {
     "output_type": "execute_result",
     "data": {
      "text/plain": "10"
     },
     "metadata": {},
     "execution_count": 24
    }
   ],
   "source": [
    "prop_a = operator.attrgetter('a') #string will contain the name of the attribute\n",
    "prop_a(obj)"
   ]
  },
  {
   "cell_type": "code",
   "execution_count": 27,
   "metadata": {},
   "outputs": [
    {
     "output_type": "execute_result",
     "data": {
      "text/plain": "10"
     },
     "metadata": {},
     "execution_count": 27
    }
   ],
   "source": [
    "property_to_get = 'a' #use of attrgetter in real sense\n",
    "prop_a = operator.attrgetter(property_to_get)\n",
    "prop_a(obj) #returns any property you want. control it via property_to_get"
   ]
  },
  {
   "cell_type": "markdown",
   "metadata": {},
   "source": [
    "### Calling a callable attribute (method) using attrgetter. It is possible!!"
   ]
  },
  {
   "cell_type": "code",
   "execution_count": 28,
   "metadata": {},
   "outputs": [
    {
     "output_type": "execute_result",
     "data": {
      "text/plain": "<bound method MyClass.test of <__main__.MyClass object at 0x7f84f790bf50>>"
     },
     "metadata": {},
     "execution_count": 28
    }
   ],
   "source": [
    "property_to_get = 'test' #use of attrgetter in real sense\n",
    "prop_a = operator.attrgetter(property_to_get)\n",
    "prop_a(obj) #returns any property you want. control it via property_to_get"
   ]
  },
  {
   "cell_type": "markdown",
   "metadata": {},
   "source": [
    "This will return only the method but not call it. If you want to call it then add paranthesis to it"
   ]
  },
  {
   "cell_type": "code",
   "execution_count": 29,
   "metadata": {},
   "outputs": [
    {
     "output_type": "stream",
     "name": "stdout",
     "text": "test method running..\n"
    }
   ],
   "source": [
    "property_to_get = 'test' \n",
    "prop_a = operator.attrgetter(property_to_get)\n",
    "prop_a(obj)()"
   ]
  },
  {
   "cell_type": "markdown",
   "metadata": {},
   "source": [
    "# OR YOU CAN USE METHODCALLER FOR THE SAME!"
   ]
  },
  {
   "cell_type": "code",
   "execution_count": 30,
   "metadata": {},
   "outputs": [
    {
     "output_type": "stream",
     "name": "stdout",
     "text": "test method running..\n"
    }
   ],
   "source": [
    "method_to_call = 'test'\n",
    "method = operator.methodcaller(method_to_call)\n",
    "method(obj)"
   ]
  },
  {
   "cell_type": "markdown",
   "metadata": {},
   "source": [
    "What if the method requires parameters"
   ]
  },
  {
   "cell_type": "code",
   "execution_count": 31,
   "metadata": {},
   "outputs": [],
   "source": [
    "class MyClass:\n",
    "    def __init__(self):\n",
    "        self.a = 10\n",
    "        self.b = 20\n",
    "        self.c = 30\n",
    "    \n",
    "    def test(self,a,b,c):\n",
    "        print(\"test method running..\")\n",
    "        print(\"Addition sums are: \\n a:{0} \\nb:{1} \\nc:{2}\".format(self.a+a,self.b+b,self.c+c))"
   ]
  },
  {
   "cell_type": "code",
   "execution_count": 32,
   "metadata": {},
   "outputs": [
    {
     "output_type": "stream",
     "name": "stdout",
     "text": "<__main__.MyClass object at 0x7f8508716690>\n10\n20\n30\n"
    }
   ],
   "source": [
    "obj = MyClass()\n",
    "print(obj)\n",
    "print(obj.a)\n",
    "print(obj.b)\n",
    "print(obj.c)"
   ]
  },
  {
   "cell_type": "code",
   "execution_count": 33,
   "metadata": {},
   "outputs": [
    {
     "output_type": "error",
     "ename": "TypeError",
     "evalue": "test() missing 3 required positional arguments: 'a', 'b', and 'c'",
     "traceback": [
      "\u001b[0;31m---------------------------------------------------------------------------\u001b[0m",
      "\u001b[0;31mTypeError\u001b[0m                                 Traceback (most recent call last)",
      "\u001b[0;32m<ipython-input-33-3837548d8d98>\u001b[0m in \u001b[0;36m<module>\u001b[0;34m\u001b[0m\n\u001b[1;32m      1\u001b[0m \u001b[0mmethod_to_call\u001b[0m \u001b[0;34m=\u001b[0m \u001b[0;34m'test'\u001b[0m\u001b[0;34m\u001b[0m\u001b[0;34m\u001b[0m\u001b[0m\n\u001b[1;32m      2\u001b[0m \u001b[0mmethod\u001b[0m \u001b[0;34m=\u001b[0m \u001b[0moperator\u001b[0m\u001b[0;34m.\u001b[0m\u001b[0mmethodcaller\u001b[0m\u001b[0;34m(\u001b[0m\u001b[0mmethod_to_call\u001b[0m\u001b[0;34m)\u001b[0m\u001b[0;34m\u001b[0m\u001b[0;34m\u001b[0m\u001b[0m\n\u001b[0;32m----> 3\u001b[0;31m \u001b[0mmethod\u001b[0m\u001b[0;34m(\u001b[0m\u001b[0mobj\u001b[0m\u001b[0;34m)\u001b[0m\u001b[0;34m\u001b[0m\u001b[0;34m\u001b[0m\u001b[0m\n\u001b[0m",
      "\u001b[0;31mTypeError\u001b[0m: test() missing 3 required positional arguments: 'a', 'b', and 'c'"
     ]
    }
   ],
   "source": [
    "method_to_call = 'test'\n",
    "method = operator.methodcaller(method_to_call)\n",
    "method(obj)"
   ]
  },
  {
   "cell_type": "markdown",
   "metadata": {},
   "source": [
    "### Giving us the error"
   ]
  },
  {
   "cell_type": "code",
   "execution_count": 40,
   "metadata": {},
   "outputs": [
    {
     "output_type": "stream",
     "name": "stdout",
     "text": "test method running..\nAddition sums are: \n a:110 \nb:220 \nc:330\n"
    }
   ],
   "source": [
    "method_to_call = 'test'\n",
    "method = operator.methodcaller(method_to_call,100,200,300) #if you are using multiple parameters, you have to pass them during initialization\n",
    "method(obj)"
   ]
  },
  {
   "cell_type": "code",
   "execution_count": null,
   "metadata": {},
   "outputs": [],
   "source": []
  }
 ]
}