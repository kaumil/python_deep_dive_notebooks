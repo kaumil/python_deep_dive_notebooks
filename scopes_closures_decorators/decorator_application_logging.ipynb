{
 "nbformat": 4,
 "nbformat_minor": 2,
 "metadata": {
  "language_info": {
   "name": "python",
   "codemirror_mode": {
    "name": "ipython",
    "version": 3
   },
   "version": "3.7.6-final"
  },
  "orig_nbformat": 2,
  "file_extension": ".py",
  "mimetype": "text/x-python",
  "name": "python",
  "npconvert_exporter": "python",
  "pygments_lexer": "ipython3",
  "version": 3,
  "kernelspec": {
   "name": "python3",
   "display_name": "Python 3"
  }
 },
 "cells": [
  {
   "cell_type": "markdown",
   "metadata": {},
   "source": [
    "Decorator Application(Loggers and Stacked Decorators)"
   ]
  },
  {
   "cell_type": "code",
   "execution_count": 1,
   "metadata": {},
   "outputs": [],
   "source": [
    "def logged(fn):\n",
    "    from functools import wraps\n",
    "    from datetime import datetime, timezone\n",
    "\n",
    "    @wraps(fn)\n",
    "    def inner(*args,**kwargs):\n",
    "        run_dt = datetime.now(timezone.utc)\n",
    "        result = fn(*args,**kwargs)\n",
    "        print('{0}: called {1}'.format(run_dt,fn.__name__))\n",
    "        return result\n",
    "    \n",
    "    return inner"
   ]
  },
  {
   "cell_type": "code",
   "execution_count": 6,
   "metadata": {},
   "outputs": [],
   "source": [
    "def timed(fn):\n",
    "    from time import perf_counter\n",
    "    from functools import wraps\n",
    "\n",
    "    @wraps(fn)\n",
    "    def inner(*args,**kwargs):\n",
    "        start = perf_counter()\n",
    "        result = fn(*args,**kwargs)\n",
    "        end = perf_counter()\n",
    "        elapsed = end - start\n",
    "\n",
    "        args_ = [str(a) for a in args]\n",
    "        kwargs_ = ['{0}={1}'.format(k,v) for (k,v) in kwargs.items()]\n",
    "        all_args = args_ + kwargs_\n",
    "        args_str = ','.join(all_args)\n",
    "\n",
    "        print('{0}({1}) took {2:.6f}s to run.'.format(fn.__name__, args_str,elapsed))\n",
    "\n",
    "        return result\n",
    "    \n",
    "    return inner"
   ]
  },
  {
   "cell_type": "code",
   "execution_count": 4,
   "metadata": {},
   "outputs": [],
   "source": [
    "@logged\n",
    "def func_1():\n",
    "    pass"
   ]
  },
  {
   "cell_type": "code",
   "execution_count": 5,
   "metadata": {},
   "outputs": [
    {
     "output_type": "stream",
     "name": "stdout",
     "text": "2020-04-13 18:11:11.055036+00:00: called func_1\n"
    }
   ],
   "source": [
    "func_1()"
   ]
  },
  {
   "cell_type": "code",
   "execution_count": 12,
   "metadata": {},
   "outputs": [],
   "source": [
    "@logged\n",
    "@timed\n",
    "def fact(n):\n",
    "    from operator import mul\n",
    "    from functools import reduce\n",
    "\n",
    "    return reduce(mul,range(1,n+1))"
   ]
  },
  {
   "cell_type": "code",
   "execution_count": 13,
   "metadata": {},
   "outputs": [
    {
     "output_type": "stream",
     "name": "stdout",
     "text": "fact(6) took 0.001276s to run.\n2020-04-13 18:13:33.487599+00:00: called fact\n"
    },
    {
     "output_type": "execute_result",
     "data": {
      "text/plain": "720"
     },
     "metadata": {},
     "execution_count": 13
    }
   ],
   "source": [
    "fact(6) #stacked decorators, timed gets called first and then logged. logged is passed the\\\n",
    "        #function with the timed parameter"
   ]
  },
  {
   "cell_type": "code",
   "execution_count": 14,
   "metadata": {},
   "outputs": [],
   "source": [
    "@timed\n",
    "@logged\n",
    "def fact(n):\n",
    "    from operator import mul\n",
    "    from functools import reduce\n",
    "\n",
    "    return reduce(mul,range(1,n+1))"
   ]
  },
  {
   "cell_type": "code",
   "execution_count": 15,
   "metadata": {},
   "outputs": [
    {
     "output_type": "stream",
     "name": "stdout",
     "text": "2020-04-13 18:21:13.038443+00:00: called fact\nfact(6) took 0.000135s to run.\n"
    },
    {
     "output_type": "execute_result",
     "data": {
      "text/plain": "720"
     },
     "metadata": {},
     "execution_count": 15
    }
   ],
   "source": [
    "fact(6) #reversing the order"
   ]
  },
  {
   "cell_type": "code",
   "execution_count": null,
   "metadata": {},
   "outputs": [],
   "source": []
  }
 ]
}