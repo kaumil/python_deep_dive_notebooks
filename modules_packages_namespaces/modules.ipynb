{
 "cells": [
  {
   "cell_type": "markdown",
   "metadata": {},
   "source": [
    "Modules are basically instances of the type ModuleType. You can create an instance of the same class and it can be called a module as well. Whenever you import a module, it gets located in the global namespace of the application"
   ]
  },
  {
   "cell_type": "code",
   "execution_count": 1,
   "metadata": {},
   "outputs": [
    {
     "output_type": "execute_result",
     "data": {
      "text/plain": "{'__name__': '__main__',\n '__doc__': 'Automatically created module for IPython interactive environment',\n '__package__': None,\n '__loader__': None,\n '__spec__': None,\n '__builtin__': <module 'builtins' (built-in)>,\n '__builtins__': <module 'builtins' (built-in)>,\n '_ih': ['', 'globals()'],\n '_oh': {},\n '_dh': ['/tmp/b92caa7a-d62b-45ae-bbf1-a443fba3dd7a',\n  '/home/kaumil/Desktop/python/modules_packages_namespaces'],\n 'In': ['', 'globals()'],\n 'Out': {},\n 'get_ipython': <bound method InteractiveShell.get_ipython of <ipykernel.zmqshell.ZMQInteractiveShell object at 0x7f238c275050>>,\n 'exit': <IPython.core.autocall.ZMQExitAutocall at 0x7f238c2984d0>,\n 'quit': <IPython.core.autocall.ZMQExitAutocall at 0x7f238c2984d0>,\n '_': '',\n '__': '',\n '___': '',\n 'os': <module 'os' from '/home/kaumil/anaconda3/lib/python3.7/os.py'>,\n 'sys': <module 'sys' (built-in)>,\n '_i': '',\n '_ii': '',\n '_iii': '',\n '_i1': 'globals()'}"
     },
     "metadata": {},
     "execution_count": 1
    }
   ],
   "source": [
    "globals()"
   ]
  },
  {
   "cell_type": "code",
   "execution_count": 2,
   "metadata": {},
   "outputs": [],
   "source": [
    "import math"
   ]
  },
  {
   "cell_type": "code",
   "execution_count": 3,
   "metadata": {},
   "outputs": [
    {
     "output_type": "execute_result",
     "data": {
      "text/plain": "{'__name__': '__main__',\n '__doc__': 'Automatically created module for IPython interactive environment',\n '__package__': None,\n '__loader__': None,\n '__spec__': None,\n '__builtin__': <module 'builtins' (built-in)>,\n '__builtins__': <module 'builtins' (built-in)>,\n '_ih': ['', 'globals()', 'import math', 'globals()'],\n '_oh': {1: {...}},\n '_dh': ['/tmp/b92caa7a-d62b-45ae-bbf1-a443fba3dd7a',\n  '/home/kaumil/Desktop/python/modules_packages_namespaces'],\n 'In': ['', 'globals()', 'import math', 'globals()'],\n 'Out': {1: {...}},\n 'get_ipython': <bound method InteractiveShell.get_ipython of <ipykernel.zmqshell.ZMQInteractiveShell object at 0x7f238c275050>>,\n 'exit': <IPython.core.autocall.ZMQExitAutocall at 0x7f238c2984d0>,\n 'quit': <IPython.core.autocall.ZMQExitAutocall at 0x7f238c2984d0>,\n '_': {...},\n '__': '',\n '___': '',\n 'os': <module 'os' from '/home/kaumil/anaconda3/lib/python3.7/os.py'>,\n 'sys': <module 'sys' (built-in)>,\n '_i': 'import math',\n '_ii': 'globals()',\n '_iii': '',\n '_i1': 'globals()',\n '_1': {...},\n '_i2': 'import math',\n 'math': <module 'math' from '/home/kaumil/anaconda3/lib/python3.7/lib-dynload/math.cpython-37m-x86_64-linux-gnu.so'>,\n '_i3': 'globals()'}"
     },
     "metadata": {},
     "execution_count": 3
    }
   ],
   "source": [
    "globals()"
   ]
  },
  {
   "cell_type": "markdown",
   "metadata": {},
   "source": [
    "As you can see, math is loaded in the globals() dictionary, which is nothing but a dictionary containing all the variables in the global namespace. If you import a module twice, it just gets cached. To check that you can use sys.modules"
   ]
  },
  {
   "cell_type": "code",
   "execution_count": 4,
   "metadata": {},
   "outputs": [
    {
     "output_type": "execute_result",
     "data": {
      "text/plain": "139790709137872"
     },
     "metadata": {},
     "execution_count": 4
    }
   ],
   "source": [
    "id(math)"
   ]
  },
  {
   "cell_type": "code",
   "execution_count": 5,
   "metadata": {},
   "outputs": [],
   "source": [
    "import sys"
   ]
  },
  {
   "cell_type": "code",
   "execution_count": 8,
   "metadata": {},
   "outputs": [
    {
     "output_type": "execute_result",
     "data": {
      "text/plain": "139790709137872"
     },
     "metadata": {},
     "execution_count": 8
    }
   ],
   "source": [
    "id(sys.modules['math'])"
   ]
  },
  {
   "cell_type": "code",
   "execution_count": 9,
   "metadata": {},
   "outputs": [
    {
     "output_type": "execute_result",
     "data": {
      "text/plain": "'math'"
     },
     "metadata": {},
     "execution_count": 9
    }
   ],
   "source": [
    "math.__name__"
   ]
  },
  {
   "cell_type": "code",
   "execution_count": 10,
   "metadata": {},
   "outputs": [
    {
     "output_type": "execute_result",
     "data": {
      "text/plain": "{'__name__': 'math',\n '__doc__': 'This module provides access to the mathematical functions\\ndefined by the C standard.',\n '__package__': '',\n '__loader__': <_frozen_importlib_external.ExtensionFileLoader at 0x7f238f8f8ad0>,\n '__spec__': ModuleSpec(name='math', loader=<_frozen_importlib_external.ExtensionFileLoader object at 0x7f238f8f8ad0>, origin='/home/kaumil/anaconda3/lib/python3.7/lib-dynload/math.cpython-37m-x86_64-linux-gnu.so'),\n 'acos': <function math.acos(x, /)>,\n 'acosh': <function math.acosh(x, /)>,\n 'asin': <function math.asin(x, /)>,\n 'asinh': <function math.asinh(x, /)>,\n 'atan': <function math.atan(x, /)>,\n 'atan2': <function math.atan2(y, x, /)>,\n 'atanh': <function math.atanh(x, /)>,\n 'ceil': <function math.ceil(x, /)>,\n 'copysign': <function math.copysign(x, y, /)>,\n 'cos': <function math.cos(x, /)>,\n 'cosh': <function math.cosh(x, /)>,\n 'degrees': <function math.degrees(x, /)>,\n 'erf': <function math.erf(x, /)>,\n 'erfc': <function math.erfc(x, /)>,\n 'exp': <function math.exp(x, /)>,\n 'expm1': <function math.expm1(x, /)>,\n 'fabs': <function math.fabs(x, /)>,\n 'factorial': <function math.factorial(x, /)>,\n 'floor': <function math.floor(x, /)>,\n 'fmod': <function math.fmod(x, y, /)>,\n 'frexp': <function math.frexp(x, /)>,\n 'fsum': <function math.fsum(seq, /)>,\n 'gamma': <function math.gamma(x, /)>,\n 'gcd': <function math.gcd(x, y, /)>,\n 'hypot': <function math.hypot(x, y, /)>,\n 'isclose': <function math.isclose(a, b, *, rel_tol=1e-09, abs_tol=0.0)>,\n 'isfinite': <function math.isfinite(x, /)>,\n 'isinf': <function math.isinf(x, /)>,\n 'isnan': <function math.isnan(x, /)>,\n 'ldexp': <function math.ldexp(x, i, /)>,\n 'lgamma': <function math.lgamma(x, /)>,\n 'log': <function math.log>,\n 'log1p': <function math.log1p(x, /)>,\n 'log10': <function math.log10(x, /)>,\n 'log2': <function math.log2(x, /)>,\n 'modf': <function math.modf(x, /)>,\n 'pow': <function math.pow(x, y, /)>,\n 'radians': <function math.radians(x, /)>,\n 'remainder': <function math.remainder(x, y, /)>,\n 'sin': <function math.sin(x, /)>,\n 'sinh': <function math.sinh(x, /)>,\n 'sqrt': <function math.sqrt(x, /)>,\n 'tan': <function math.tan(x, /)>,\n 'tanh': <function math.tanh(x, /)>,\n 'trunc': <function math.trunc(x, /)>,\n 'pi': 3.141592653589793,\n 'e': 2.718281828459045,\n 'tau': 6.283185307179586,\n 'inf': inf,\n 'nan': nan,\n '__file__': '/home/kaumil/anaconda3/lib/python3.7/lib-dynload/math.cpython-37m-x86_64-linux-gnu.so'}"
     },
     "metadata": {},
     "execution_count": 10
    }
   ],
   "source": [
    "math.__dict__"
   ]
  },
  {
   "cell_type": "code",
   "execution_count": 11,
   "metadata": {},
   "outputs": [],
   "source": [
    "f = math.__dict__['sqrt']"
   ]
  },
  {
   "cell_type": "code",
   "execution_count": 12,
   "metadata": {},
   "outputs": [
    {
     "output_type": "execute_result",
     "data": {
      "text/plain": "1.4142135623730951"
     },
     "metadata": {},
     "execution_count": 12
    }
   ],
   "source": [
    "f(2)"
   ]
  },
  {
   "cell_type": "code",
   "execution_count": 13,
   "metadata": {},
   "outputs": [],
   "source": [
    "import fractions"
   ]
  },
  {
   "cell_type": "code",
   "execution_count": 14,
   "metadata": {},
   "outputs": [
    {
     "output_type": "execute_result",
     "data": {
      "text/plain": "139790162300560"
     },
     "metadata": {},
     "execution_count": 14
    }
   ],
   "source": [
    "id(fractions)"
   ]
  },
  {
   "cell_type": "code",
   "execution_count": 18,
   "metadata": {},
   "outputs": [
    {
     "output_type": "execute_result",
     "data": {
      "text/plain": "<module 'fractions' from '/home/kaumil/anaconda3/lib/python3.7/fractions.py'>"
     },
     "metadata": {},
     "execution_count": 18
    }
   ],
   "source": [
    "fractions #its a py file. not a built-in module"
   ]
  },
  {
   "cell_type": "code",
   "execution_count": 16,
   "metadata": {},
   "outputs": [
    {
     "output_type": "execute_result",
     "data": {
      "text/plain": "139790162300560"
     },
     "metadata": {},
     "execution_count": 16
    }
   ],
   "source": [
    "id(sys.modules['fractions'])"
   ]
  },
  {
   "cell_type": "code",
   "execution_count": 19,
   "metadata": {},
   "outputs": [
    {
     "output_type": "execute_result",
     "data": {
      "text/plain": "{'__name__': 'fractions',\n '__doc__': 'Fraction, infinite-precision, real numbers.',\n '__package__': '',\n '__loader__': <_frozen_importlib_external.SourceFileLoader at 0x7f236f170450>,\n '__spec__': ModuleSpec(name='fractions', loader=<_frozen_importlib_external.SourceFileLoader object at 0x7f236f170450>, origin='/home/kaumil/anaconda3/lib/python3.7/fractions.py'),\n '__file__': '/home/kaumil/anaconda3/lib/python3.7/fractions.py',\n '__cached__': '/home/kaumil/anaconda3/lib/python3.7/__pycache__/fractions.cpython-37.pyc',\n '__builtins__': {'__name__': 'builtins',\n  '__doc__': \"Built-in functions, exceptions, and other objects.\\n\\nNoteworthy: None is the `nil' object; Ellipsis represents `...' in slices.\",\n  '__package__': '',\n  '__loader__': _frozen_importlib.BuiltinImporter,\n  '__spec__': ModuleSpec(name='builtins', loader=<class '_frozen_importlib.BuiltinImporter'>),\n  '__build_class__': <function __build_class__>,\n  '__import__': <function __import__>,\n  'abs': <function abs(x, /)>,\n  'all': <function all(iterable, /)>,\n  'any': <function any(iterable, /)>,\n  'ascii': <function ascii(obj, /)>,\n  'bin': <function bin(number, /)>,\n  'breakpoint': <function breakpoint>,\n  'callable': <function callable(obj, /)>,\n  'chr': <function chr(i, /)>,\n  'compile': <function compile(source, filename, mode, flags=0, dont_inherit=False, optimize=-1)>,\n  'delattr': <function delattr(obj, name, /)>,\n  'dir': <function dir>,\n  'divmod': <function divmod(x, y, /)>,\n  'eval': <function eval(source, globals=None, locals=None, /)>,\n  'exec': <function exec(source, globals=None, locals=None, /)>,\n  'format': <function format(value, format_spec='', /)>,\n  'getattr': <function getattr>,\n  'globals': <function globals()>,\n  'hasattr': <function hasattr(obj, name, /)>,\n  'hash': <function hash(obj, /)>,\n  'hex': <function hex(number, /)>,\n  'id': <function id(obj, /)>,\n  'input': <bound method Kernel.raw_input of <ipykernel.ipkernel.IPythonKernel object at 0x7f238d2cdf50>>,\n  'isinstance': <function isinstance(obj, class_or_tuple, /)>,\n  'issubclass': <function issubclass(cls, class_or_tuple, /)>,\n  'iter': <function iter>,\n  'len': <function len(obj, /)>,\n  'locals': <function locals()>,\n  'max': <function max>,\n  'min': <function min>,\n  'next': <function next>,\n  'oct': <function oct(number, /)>,\n  'ord': <function ord(c, /)>,\n  'pow': <function pow(x, y, z=None, /)>,\n  'print': <function print>,\n  'repr': <function repr(obj, /)>,\n  'round': <function round(number, ndigits=None)>,\n  'setattr': <function setattr(obj, name, value, /)>,\n  'sorted': <function sorted(iterable, /, *, key=None, reverse=False)>,\n  'sum': <function sum(iterable, start=0, /)>,\n  'vars': <function vars>,\n  'None': None,\n  'Ellipsis': Ellipsis,\n  'NotImplemented': NotImplemented,\n  'False': False,\n  'True': True,\n  'bool': bool,\n  'memoryview': memoryview,\n  'bytearray': bytearray,\n  'bytes': bytes,\n  'classmethod': classmethod,\n  'complex': complex,\n  'dict': dict,\n  'enumerate': enumerate,\n  'filter': filter,\n  'float': float,\n  'frozenset': frozenset,\n  'property': property,\n  'int': int,\n  'list': list,\n  'map': map,\n  'object': object,\n  'range': range,\n  'reversed': reversed,\n  'set': set,\n  'slice': slice,\n  'staticmethod': staticmethod,\n  'str': str,\n  'super': super,\n  'tuple': tuple,\n  'type': type,\n  'zip': zip,\n  '__debug__': True,\n  'BaseException': BaseException,\n  'Exception': Exception,\n  'TypeError': TypeError,\n  'StopAsyncIteration': StopAsyncIteration,\n  'StopIteration': StopIteration,\n  'GeneratorExit': GeneratorExit,\n  'SystemExit': SystemExit,\n  'KeyboardInterrupt': KeyboardInterrupt,\n  'ImportError': ImportError,\n  'ModuleNotFoundError': ModuleNotFoundError,\n  'OSError': OSError,\n  'EnvironmentError': OSError,\n  'IOError': OSError,\n  'EOFError': EOFError,\n  'RuntimeError': RuntimeError,\n  'RecursionError': RecursionError,\n  'NotImplementedError': NotImplementedError,\n  'NameError': NameError,\n  'UnboundLocalError': UnboundLocalError,\n  'AttributeError': AttributeError,\n  'SyntaxError': SyntaxError,\n  'IndentationError': IndentationError,\n  'TabError': TabError,\n  'LookupError': LookupError,\n  'IndexError': IndexError,\n  'KeyError': KeyError,\n  'ValueError': ValueError,\n  'UnicodeError': UnicodeError,\n  'UnicodeEncodeError': UnicodeEncodeError,\n  'UnicodeDecodeError': UnicodeDecodeError,\n  'UnicodeTranslateError': UnicodeTranslateError,\n  'AssertionError': AssertionError,\n  'ArithmeticError': ArithmeticError,\n  'FloatingPointError': FloatingPointError,\n  'OverflowError': OverflowError,\n  'ZeroDivisionError': ZeroDivisionError,\n  'SystemError': SystemError,\n  'ReferenceError': ReferenceError,\n  'MemoryError': MemoryError,\n  'BufferError': BufferError,\n  'Warning': Warning,\n  'UserWarning': UserWarning,\n  'DeprecationWarning': DeprecationWarning,\n  'PendingDeprecationWarning': PendingDeprecationWarning,\n  'SyntaxWarning': SyntaxWarning,\n  'RuntimeWarning': RuntimeWarning,\n  'FutureWarning': FutureWarning,\n  'ImportWarning': ImportWarning,\n  'UnicodeWarning': UnicodeWarning,\n  'BytesWarning': BytesWarning,\n  'ResourceWarning': ResourceWarning,\n  'ConnectionError': ConnectionError,\n  'BlockingIOError': BlockingIOError,\n  'BrokenPipeError': BrokenPipeError,\n  'ChildProcessError': ChildProcessError,\n  'ConnectionAbortedError': ConnectionAbortedError,\n  'ConnectionRefusedError': ConnectionRefusedError,\n  'ConnectionResetError': ConnectionResetError,\n  'FileExistsError': FileExistsError,\n  'FileNotFoundError': FileNotFoundError,\n  'IsADirectoryError': IsADirectoryError,\n  'NotADirectoryError': NotADirectoryError,\n  'InterruptedError': InterruptedError,\n  'PermissionError': PermissionError,\n  'ProcessLookupError': ProcessLookupError,\n  'TimeoutError': TimeoutError,\n  'open': <function io.open(file, mode='r', buffering=-1, encoding=None, errors=None, newline=None, closefd=True, opener=None)>,\n  'copyright': Copyright (c) 2001-2019 Python Software Foundation.\n  All Rights Reserved.\n  \n  Copyright (c) 2000 BeOpen.com.\n  All Rights Reserved.\n  \n  Copyright (c) 1995-2001 Corporation for National Research Initiatives.\n  All Rights Reserved.\n  \n  Copyright (c) 1991-1995 Stichting Mathematisch Centrum, Amsterdam.\n  All Rights Reserved.,\n  'credits':     Thanks to CWI, CNRI, BeOpen.com, Zope Corporation and a cast of thousands\n      for supporting Python development.  See www.python.org for more information.,\n  'license': Type license() to see the full license text,\n  'help': Type help() for interactive help, or help(object) for help about object.,\n  '__IPYTHON__': True,\n  'display': <function IPython.core.display.display(*objs, include=None, exclude=None, metadata=None, transient=None, display_id=None, **kwargs)>,\n  'get_ipython': <bound method InteractiveShell.get_ipython of <ipykernel.zmqshell.ZMQInteractiveShell object at 0x7f238c275050>>},\n 'Decimal': decimal.Decimal,\n 'math': <module 'math' from '/home/kaumil/anaconda3/lib/python3.7/lib-dynload/math.cpython-37m-x86_64-linux-gnu.so'>,\n 'numbers': <module 'numbers' from '/home/kaumil/anaconda3/lib/python3.7/numbers.py'>,\n 'operator': <module 'operator' from '/home/kaumil/anaconda3/lib/python3.7/operator.py'>,\n 're': <module 're' from '/home/kaumil/anaconda3/lib/python3.7/re.py'>,\n 'sys': <module 'sys' (built-in)>,\n '__all__': ['Fraction', 'gcd'],\n 'gcd': <function fractions.gcd(a, b)>,\n '_gcd': <function fractions._gcd(a, b)>,\n '_PyHASH_MODULUS': 2305843009213693951,\n '_PyHASH_INF': 314159,\n '_RATIONAL_FORMAT': re.compile(r'\\n    \\A\\s*                      # optional whitespace at the start, then\\n    (?P<sign>[-+]?)            # an optional sign, then\\n    (?=\\d|\\.\\d)                # lookahead for digit or .digit\\n    (?P<num>\\d*)               # numerator (possibly empty)\\n    (?:                        # followed by\\n       (?:/(?P<denom>\\d+))?    # an optional denominator\\n    |                          # or\\n       (?:\\.(?P<decimal>\\d*))? # an optional fractional part\\n       (?:E(?P<exp>[-+]?\\d+))? # and optional exponent\\n    )\\n    \\s*\\Z                      # and optional whitespace to finish\\n',\n re.IGNORECASE|re.UNICODE|re.VERBOSE),\n 'Fraction': fractions.Fraction}"
     },
     "metadata": {},
     "execution_count": 19
    }
   ],
   "source": [
    "fractions.__dict__"
   ]
  },
  {
   "cell_type": "code",
   "execution_count": 22,
   "metadata": {},
   "outputs": [],
   "source": [
    "import types\n",
    "from types import ModuleType"
   ]
  },
  {
   "cell_type": "code",
   "execution_count": 21,
   "metadata": {},
   "outputs": [
    {
     "output_type": "execute_result",
     "data": {
      "text/plain": "module"
     },
     "metadata": {},
     "execution_count": 21
    }
   ],
   "source": [
    "types.ModuleType"
   ]
  },
  {
   "cell_type": "code",
   "execution_count": 23,
   "metadata": {},
   "outputs": [
    {
     "output_type": "execute_result",
     "data": {
      "text/plain": "True"
     },
     "metadata": {},
     "execution_count": 23
    }
   ],
   "source": [
    "isinstance(fractions,ModuleType)"
   ]
  },
  {
   "cell_type": "code",
   "execution_count": 24,
   "metadata": {},
   "outputs": [
    {
     "output_type": "execute_result",
     "data": {
      "text/plain": "True"
     },
     "metadata": {},
     "execution_count": 24
    }
   ],
   "source": [
    "isinstance(math,ModuleType)"
   ]
  },
  {
   "cell_type": "markdown",
   "metadata": {},
   "source": [
    "## Creating our own module"
   ]
  },
  {
   "cell_type": "code",
   "execution_count": 26,
   "metadata": {},
   "outputs": [],
   "source": [
    "mod = ModuleType('test','this is a test module.')"
   ]
  },
  {
   "cell_type": "code",
   "execution_count": 27,
   "metadata": {},
   "outputs": [
    {
     "output_type": "execute_result",
     "data": {
      "text/plain": "True"
     },
     "metadata": {},
     "execution_count": 27
    }
   ],
   "source": [
    "isinstance(mod,ModuleType)"
   ]
  },
  {
   "cell_type": "code",
   "execution_count": 28,
   "metadata": {},
   "outputs": [
    {
     "output_type": "execute_result",
     "data": {
      "text/plain": "{'__name__': 'test',\n '__doc__': 'this is a test module.',\n '__package__': None,\n '__loader__': None,\n '__spec__': None}"
     },
     "metadata": {},
     "execution_count": 28
    }
   ],
   "source": [
    "mod.__dict__"
   ]
  },
  {
   "cell_type": "code",
   "execution_count": 29,
   "metadata": {},
   "outputs": [],
   "source": [
    "mod.pi = 3.14"
   ]
  },
  {
   "cell_type": "code",
   "execution_count": 30,
   "metadata": {},
   "outputs": [
    {
     "output_type": "execute_result",
     "data": {
      "text/plain": "{'__name__': 'test',\n '__doc__': 'this is a test module.',\n '__package__': None,\n '__loader__': None,\n '__spec__': None,\n 'pi': 3.14}"
     },
     "metadata": {},
     "execution_count": 30
    }
   ],
   "source": [
    "mod.__dict__"
   ]
  },
  {
   "cell_type": "code",
   "execution_count": null,
   "metadata": {},
   "outputs": [],
   "source": []
  }
 ],
 "metadata": {
  "language_info": {
   "codemirror_mode": {
    "name": "ipython",
    "version": 3
   },
   "file_extension": ".py",
   "mimetype": "text/x-python",
   "name": "python",
   "nbconvert_exporter": "python",
   "pygments_lexer": "ipython3",
   "version": "3.7.6-final"
  },
  "orig_nbformat": 2,
  "kernelspec": {
   "name": "python3",
   "display_name": "Python 3"
  }
 },
 "nbformat": 4,
 "nbformat_minor": 2
}