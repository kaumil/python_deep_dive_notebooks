{
 "cells": [
  {
   "cell_type": "code",
   "execution_count": 3,
   "metadata": {},
   "outputs": [],
   "source": [
    "import common\n",
    "from common.validators.date import hello as date_hello\n",
    "from common.validators.boolean import hello as boolean_hello"
   ]
  },
  {
   "cell_type": "code",
   "execution_count": 5,
   "metadata": {},
   "outputs": [
    {
     "output_type": "stream",
     "name": "stdout",
     "text": "Hello from: common.validators.date\n"
    }
   ],
   "source": [
    "date_hello()"
   ]
  },
  {
   "cell_type": "code",
   "execution_count": 6,
   "metadata": {},
   "outputs": [
    {
     "output_type": "stream",
     "name": "stdout",
     "text": "Hello from common.validators.boolean\n"
    }
   ],
   "source": [
    "boolean_hello()"
   ]
  },
  {
   "cell_type": "code",
   "execution_count": 8,
   "metadata": {},
   "outputs": [
    {
     "output_type": "stream",
     "name": "stdout",
     "text": "__name__\n"
    },
    {
     "output_type": "error",
     "ename": "RuntimeError",
     "evalue": "dictionary changed size during iteration",
     "traceback": [
      "\u001b[0;31m---------------------------------------------------------------------------\u001b[0m",
      "\u001b[0;31mRuntimeError\u001b[0m                              Traceback (most recent call last)",
      "\u001b[0;32m<ipython-input-8-57083a7bc63a>\u001b[0m in \u001b[0;36m<module>\u001b[0;34m\u001b[0m\n\u001b[0;32m----> 1\u001b[0;31m \u001b[0;32mfor\u001b[0m \u001b[0mk\u001b[0m \u001b[0;32min\u001b[0m \u001b[0mglobals\u001b[0m\u001b[0;34m(\u001b[0m\u001b[0;34m)\u001b[0m\u001b[0;34m.\u001b[0m\u001b[0mkeys\u001b[0m\u001b[0;34m(\u001b[0m\u001b[0;34m)\u001b[0m\u001b[0;34m:\u001b[0m\u001b[0;34m\u001b[0m\u001b[0;34m\u001b[0m\u001b[0m\n\u001b[0m\u001b[1;32m      2\u001b[0m     \u001b[0mprint\u001b[0m\u001b[0;34m(\u001b[0m\u001b[0mk\u001b[0m\u001b[0;34m)\u001b[0m\u001b[0;34m\u001b[0m\u001b[0;34m\u001b[0m\u001b[0m\n",
      "\u001b[0;31mRuntimeError\u001b[0m: dictionary changed size during iteration"
     ]
    }
   ],
   "source": [
    "for k in globals().keys():\n",
    "    print(k)"
   ]
  },
  {
   "cell_type": "markdown",
   "metadata": {},
   "source": [
    "We tried to print all the variables in the global namespace, but it didn't work. Why? well we are assigning each key of globals dictionary to the variable k, but where does k live? in the globals dictionary itself. Hence the size of the globals dictionary changes and it gives you the error"
   ]
  },
  {
   "cell_type": "code",
   "execution_count": 11,
   "metadata": {},
   "outputs": [
    {
     "output_type": "stream",
     "name": "stdout",
     "text": "\n\n********* self *****************\n__name__\n__doc__\n__package__\n__loader__\n__spec__\n__builtin__\n__builtins__\n_ih\n_oh\n_dh\nIn\nOut\nget_ipython\nexit\nquit\n_\n__\n___\nos\nsys\n_i\n_ii\n_iii\n_i1\ncommon\n_i2\n_i3\ndate_hello\nboolean_hello\n_i4\n_4\n_i5\n_i6\n_i7\n_7\n_i8\nk\n_i9\n_i10\n_i11\n"
    }
   ],
   "source": [
    "print(\"\\n\\n********* self *****************\")\n",
    "for k in dict(globals()).keys(): #we make a copy of globals()\n",
    "    print(k)"
   ]
  },
  {
   "cell_type": "code",
   "execution_count": 13,
   "metadata": {},
   "outputs": [
    {
     "output_type": "stream",
     "name": "stdout",
     "text": "\n\n********* common *****************\n__name__\n__doc__\n__package__\n__loader__\n__spec__\n__path__\n__file__\n__cached__\n__builtins__\nvalidators\n"
    }
   ],
   "source": [
    "print(\"\\n\\n********* common *****************\")\n",
    "for k in common.__dict__.keys(): #we make a copy of globals()\n",
    "    print(k)"
   ]
  },
  {
   "cell_type": "markdown",
   "metadata": {},
   "source": [
    "We didn't face the same issue with common's namespace. WHY? well because when the value is assigned to the variable k, it resides in the global namespace and not common's namespace"
   ]
  },
  {
   "cell_type": "code",
   "execution_count": 14,
   "metadata": {},
   "outputs": [
    {
     "output_type": "stream",
     "name": "stdout",
     "text": "\n\n********* validators *****************\n__name__\n__doc__\n__package__\n__loader__\n__spec__\n__path__\n__file__\n__cached__\n__builtins__\ndate\nboolean\n"
    }
   ],
   "source": [
    "print(\"\\n\\n********* validators *****************\")\n",
    "for k in common.validators.__dict__.keys(): #we make a copy of globals()\n",
    "    print(k)"
   ]
  },
  {
   "cell_type": "code",
   "execution_count": 15,
   "metadata": {},
   "outputs": [
    {
     "output_type": "stream",
     "name": "stdout",
     "text": "\n\n********* boolean *****************\n__name__\n__doc__\n__package__\n__loader__\n__spec__\n__file__\n__cached__\n__builtins__\nhello\nto_bool\n"
    }
   ],
   "source": [
    "print(\"\\n\\n********* boolean *****************\")\n",
    "for k in common.validators.boolean.__dict__.keys(): #we make a copy of globals()\n",
    "    print(k)"
   ]
  },
  {
   "cell_type": "code",
   "execution_count": 16,
   "metadata": {},
   "outputs": [
    {
     "output_type": "stream",
     "name": "stdout",
     "text": "\n\n********* date *****************\n__name__\n__doc__\n__package__\n__loader__\n__spec__\n__file__\n__cached__\n__builtins__\nhello\n"
    }
   ],
   "source": [
    "print(\"\\n\\n********* date *****************\")\n",
    "for k in common.validators.date.__dict__.keys(): #we make a copy of globals()\n",
    "    print(k)"
   ]
  },
  {
   "cell_type": "markdown",
   "metadata": {},
   "source": [
    "What if we want to do it like \n",
    "\n",
    "from common import validators\n",
    "\n",
    "and then use validators.hello or any other function call\n"
   ]
  },
  {
   "cell_type": "markdown",
   "metadata": {},
   "source": [
    "We have to change the validators package's \\__init__.py"
   ]
  },
  {
   "cell_type": "code",
   "execution_count": 1,
   "metadata": {},
   "outputs": [],
   "source": [
    "from common import validators"
   ]
  },
  {
   "cell_type": "code",
   "execution_count": 4,
   "metadata": {},
   "outputs": [
    {
     "output_type": "stream",
     "name": "stdout",
     "text": "Hello from common.validators.boolean\n"
    }
   ],
   "source": [
    "validators.boolean.hello()"
   ]
  },
  {
   "cell_type": "markdown",
   "metadata": {},
   "source": [
    "The validators \\__init__.py has the following import\n",
    "\n",
    "import common.validators.boolean\n",
    "import common.validators.date\n",
    "\n",
    "if we want to call hello using validators, we still have to call validators.boolean.hello,\n",
    "\n",
    "what if we could do validators.hello and it picked up the function.\n",
    "\n",
    "## THIS IS A USE CASE FOR IMPORT * where you can import all the functions in the modules in the containing packages and use them"
   ]
  },
  {
   "cell_type": "code",
   "execution_count": 1,
   "metadata": {},
   "outputs": [],
   "source": [
    "#reimporting \n",
    "import common.validators"
   ]
  },
  {
   "cell_type": "code",
   "execution_count": 3,
   "metadata": {},
   "outputs": [
    {
     "output_type": "stream",
     "name": "stdout",
     "text": "Hello from: common.validators.date\n"
    }
   ],
   "source": [
    "common.validators.hello() #we have 2 modules having the same function hello(), in this case the import sequence matters, the hello from the date overwrote the hello from the boolean module"
   ]
  },
  {
   "cell_type": "code",
   "execution_count": 1,
   "metadata": {},
   "outputs": [],
   "source": [
    "import common"
   ]
  },
  {
   "cell_type": "markdown",
   "metadata": {},
   "source": [
    "Doing the same thing for common package. common's \\__init__.py and validators package reside at the same hierarchy and hence just doing from .validators import * so we can import every module and function imported in validators while importing common only"
   ]
  },
  {
   "cell_type": "code",
   "execution_count": 2,
   "metadata": {},
   "outputs": [
    {
     "output_type": "stream",
     "name": "stdout",
     "text": "Hello from: common.validators.date\n"
    }
   ],
   "source": [
    "common.hello()"
   ]
  },
  {
   "cell_type": "code",
   "execution_count": null,
   "metadata": {},
   "outputs": [],
   "source": []
  }
 ],
 "metadata": {
  "language_info": {
   "codemirror_mode": {
    "name": "ipython",
    "version": 3
   },
   "file_extension": ".py",
   "mimetype": "text/x-python",
   "name": "python",
   "nbconvert_exporter": "python",
   "pygments_lexer": "ipython3",
   "version": "3.7.6-final"
  },
  "orig_nbformat": 2,
  "kernelspec": {
   "name": "python3",
   "display_name": "Python 3"
  }
 },
 "nbformat": 4,
 "nbformat_minor": 2
}